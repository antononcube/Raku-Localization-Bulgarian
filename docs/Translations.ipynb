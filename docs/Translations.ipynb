{
 "cells": [
  {
   "cell_type": "markdown",
   "metadata": {},
   "source": [
    "# Translations"
   ]
  },
  {
   "cell_type": "code",
   "execution_count": null,
   "metadata": {},
   "outputs": [],
   "source": [
    "use Data::Importers;\n",
    "use LLM::Configurations;"
   ]
  },
  {
   "cell_type": "markdown",
   "metadata": {},
   "source": [
    "Directly defined LLM configurations:"
   ]
  },
  {
   "cell_type": "code",
   "execution_count": null,
   "metadata": {},
   "outputs": [],
   "source": [
    "my $conf4o-mini = llm-configuration('ChatGPT', model => 'gpt-4o-mini', max-tokens => 8192, temperature => 0.5);\n",
    "my $conf41-mini = llm-configuration('ChatGPT', model => 'gpt-4.1-mini', max-tokens => 8192, temperature => 0.5);\n",
    "my $conf-gemini-flash = llm-configuration('Gemini', model => 'gemini-2.0-flash', max-tokens => 8192, temperature => 0.5);\n",
    "my $conf-gemini-flash-preview = llm-configuration('Gemini', model => 'gemini-2.5-flash-preview-05-20', max-tokens => 65_536, temperature => 0.5);\n",
    "my $conf-gemini-pro-preview = llm-configuration('Gemini', model => 'gemini-2.5-pro-preview-06-05', max-tokens => 65_536, temperature => 0.5);\n",
    "\n",
    "# Choose an LLM access configuration or specify your own\n",
    "sink my $conf = $conf4o-mini;"
   ]
  },
  {
   "cell_type": "markdown",
   "metadata": {},
   "source": [
    "Choose a language:"
   ]
  },
  {
   "cell_type": "code",
   "execution_count": null,
   "metadata": {},
   "outputs": [],
   "source": [
    "sink my $from-lang = 'Russian';\n",
    "sink my $to-lang = 'Bulgarian';"
   ]
  },
  {
   "cell_type": "code",
   "execution_count": null,
   "metadata": {},
   "outputs": [],
   "source": [
    "my $fileName = ($*CWD ~ '/lib/Russian.rakumod').subst('docs/');\n",
    "my $txtFocus = data-import($fileName);\n",
    "\n",
    "text-stats($txtFocus)"
   ]
  },
  {
   "cell_type": "code",
   "execution_count": null,
   "metadata": {},
   "outputs": [],
   "source": [
    "my $txtBG = llm-synthesize([\n",
    "    \"Translate the Russian sub names, constant names, and variable names in the following Raku program from Russian to Bulgarian.\",\n",
    "    \"Keep the rest of the Raku code unchanged.\",\n",
    "    \"TEXT:\\n\\n\",\n",
    "    $txtFocus\n",
    "],\n",
    "e => $conf-gemini-flash-preview\n",
    ")"
   ]
  },
  {
   "cell_type": "code",
   "execution_count": null,
   "metadata": {},
   "outputs": [],
   "source": [
    "text-stats($txtBG)"
   ]
  },
  {
   "cell_type": "code",
   "execution_count": null,
   "metadata": {},
   "outputs": [],
   "source": [
    "spurt $*CWD ~ '/../lib/Bulgarian-new.rakumod',  $txtBG.subst(/ ^ '```raku' | '```' \\s* $/, :g);"
   ]
  }
 ],
 "metadata": {
  "kernelspec": {
   "display_name": "RakuChatbook",
   "language": "raku",
   "name": "raku"
  },
  "language_info": {
   "file_extension": ".raku",
   "mimetype": "text/x-raku",
   "name": "raku",
   "version": "6.d"
  }
 },
 "nbformat": 4,
 "nbformat_minor": 2
}
